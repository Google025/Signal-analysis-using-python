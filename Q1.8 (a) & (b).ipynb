{
 "cells": [
  {
   "cell_type": "code",
   "execution_count": 5,
   "metadata": {},
   "outputs": [],
   "source": [
    "import numpy as np                               # import numpy library as np\n",
    "import matplotlib.pyplot as plt                  # import mathpltlib.pyplot library as plt\n",
    "import cmath                                     # import cmath library \n",
    "\n",
    "j = cmath.sqrt(-1)                               # iota as j = sqrt(-1)\n",
    "w = np.linspace(-np.pi, np.pi, 101)              # create a space of w from -pi to + pi\n",
    "\n",
    "z = r*np.exp(-j*w)                               # expression of z transform \n",
    "r = 1\n",
    "\n",
    "\n",
    "def func_equation(z,q):\n",
    "    #     part (a) of question 8 \n",
    "    #     H(z) = 0.75 + z^-1 +2z^-2 + 2z^-3 + z^-4 + 0.75z^-5)/(3 + 3.5z^-2 + z^-4) \n",
    "    eqn1 = (0.75 + 1*z**-1 + 2*z**-2 + 2*z**-3 + 1*z**-4 + 0.75*z**-5)/(3 + 3.5*z**-2 + 1*z**-4) \n",
    "    \n",
    "    #     part (b) of question 8\n",
    "    eqn2 = (1 - 1.5*z**-1 + 3.75*z**-2 - 2.75*z**-3 + 2.75*z**-4 - 3.75*z**-5 + 1.5*z**-6 - z**-7)/(6 + 6.5*z**-2 + 4.5*z**-4 + z**-6) \n",
    "    \n",
    "    if q == 1:\n",
    "        return eqn1 \n",
    "    else:\n",
    "        return eqn2"
   ]
  },
  {
   "cell_type": "code",
   "execution_count": 11,
   "metadata": {},
   "outputs": [
    {
     "name": "stdout",
     "output_type": "stream",
     "text": [
      "absolute value of (a) =  [1. 1. 1. 1. 1. 1. 1. 1. 1. 1. 1. 1. 1. 1. 1. 1. 1. 1. 1. 1. 1. 1. 1. 1.\n",
      " 1. 1. 1. 1. 1. 1. 1. 1. 1. 1. 1. 1. 1. 1. 1. 1. 1. 1. 1. 1. 1. 1. 1. 1.\n",
      " 1. 1. 1. 1. 1. 1. 1. 1. 1. 1. 1. 1. 1. 1. 1. 1. 1. 1. 1. 1. 1. 1. 1. 1.\n",
      " 1. 1. 1. 1. 1. 1. 1. 1. 1. 1. 1. 1. 1. 1. 1. 1. 1. 1. 1. 1. 1. 1. 1. 1.\n",
      " 1. 1. 1. 1. 1.]\n"
     ]
    }
   ],
   "source": [
    "Hz = func_equation(z,2)\n",
    "Hzinv = func_equation(1/z,3)\n",
    "\n",
    "Hmz = func_equation(-z,12)\n",
    "Hmzinv = func_equation(-1/z,6)\n",
    "\n",
    "PowerComplProperty1 = Hz*Hzinv + Hmz*Hmzinv #applying power complimentary property\n",
    "\n",
    "print('absolute value of (a) = ',abs(PowerComplProperty1) )"
   ]
  },
  {
   "cell_type": "code",
   "execution_count": 12,
   "metadata": {},
   "outputs": [
    {
     "name": "stdout",
     "output_type": "stream",
     "text": [
      "absolute value of (b) =  [1. 1. 1. 1. 1. 1. 1. 1. 1. 1. 1. 1. 1. 1. 1. 1. 1. 1. 1. 1. 1. 1. 1. 1.\n",
      " 1. 1. 1. 1. 1. 1. 1. 1. 1. 1. 1. 1. 1. 1. 1. 1. 1. 1. 1. 1. 1. 1. 1. 1.\n",
      " 1. 1. 1. 1. 1. 1. 1. 1. 1. 1. 1. 1. 1. 1. 1. 1. 1. 1. 1. 1. 1. 1. 1. 1.\n",
      " 1. 1. 1. 1. 1. 1. 1. 1. 1. 1. 1. 1. 1. 1. 1. 1. 1. 1. 1. 1. 1. 1. 1. 1.\n",
      " 1. 1. 1. 1. 1.]\n"
     ]
    }
   ],
   "source": [
    "Hz = func_equation(z,1)\n",
    "Hzinv = func_equation(1/z,1)\n",
    "\n",
    "Hmz = func_equation(-z,1)\n",
    "Hmzinv = func_equation(-1/z,1)\n",
    "\n",
    "PowerComplProperty2 = Hz*Hzinv + Hmz*Hmzinv #applying power complimentary property\n",
    "\n",
    "print('absolute value of (b) = ',abs(PowerComplProperty2) )"
   ]
  },
  {
   "cell_type": "code",
   "execution_count": null,
   "metadata": {},
   "outputs": [],
   "source": []
  }
 ],
 "metadata": {
  "kernelspec": {
   "display_name": "Python 3",
   "language": "python",
   "name": "python3"
  },
  "language_info": {
   "codemirror_mode": {
    "name": "ipython",
    "version": 3
   },
   "file_extension": ".py",
   "mimetype": "text/x-python",
   "name": "python",
   "nbconvert_exporter": "python",
   "pygments_lexer": "ipython3",
   "version": "3.8.5"
  }
 },
 "nbformat": 4,
 "nbformat_minor": 4
}

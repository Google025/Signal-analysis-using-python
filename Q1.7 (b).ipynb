{
 "cells": [
  {
   "cell_type": "code",
   "execution_count": 4,
   "metadata": {},
   "outputs": [],
   "source": [
    "import numpy as np                                  #import numpy lib as np\n",
    "import matplotlib.pyplot as plt                     #import plot lib as plt\n",
    "import cmath\n",
    "import matplotlib.patches as patches                     #import patches from mathplotlib library\n",
    "\n",
    "def zplane(b, a):\n",
    "    # Plot the complex z-plane given a transfer function.\n",
    "    # get a figure/plot\n",
    "    ax = plt.subplot(111)\n",
    "\n",
    "    # create the unit circle\n",
    "    uc = patches.Circle((0, 0), radius=1, fill=False,\n",
    "                        color='black', ls='dashed')\n",
    "    ax.add_patch(uc)\n",
    "    \n",
    "    # Get the poles and zeros\n",
    "    p = np.roots(a)\n",
    "    z = np.roots(b)\n",
    "    print(z)\n",
    "    \n",
    "    rp= max(z)+1\n",
    "    roc = patches.Circle((0, 0), radius=1, fill=False,\n",
    "                        color='black', ls='dashed')\n",
    "    ax.add_patch(roc)\n",
    "    # Plot the zeros and set marker properties\n",
    "    t1 = plt.plot(z.real, z.imag, 'go', ms=10)  # 'go' means 'green solid circle' marker\n",
    "    plt.setp(t1, markersize=10.0, markeredgewidth=1.0,\n",
    "             markeredgecolor='k', markerfacecolor='g')  # 'k'  means 'black' color\n",
    "\n",
    "    # Plot the poles and set marker properties\n",
    "    t2 = plt.plot(p.real, p.imag, 'rx', ms=10)  # 'rx' means 'red solid X' marker\n",
    "    plt.setp(t2, markersize=10.0, markeredgewidth=3.0,\n",
    "             markeredgecolor='r', markerfacecolor='r')\n",
    "\n",
    "    ax.spines['left'].set_position('center')\n",
    "    ax.spines['bottom'].set_position('center')\n",
    "    ax.spines['right'].set_visible(False)\n",
    "    ax.spines['top'].set_visible(False)\n",
    "\n",
    "    # set the ticks\n",
    "    r = 5  # radius up to which the pole zero plots are plotted in the graph\n",
    "    plt.axis('scaled')\n",
    "    plt.axis([-r, r, -r, r])\n",
    "    ticks = [-5,-4, -3, -2, -1, 0, 1, 2, 3, 4,5]\n",
    "    # values at which the ticks appear on the X and Y axes\n",
    "    plt.xticks(ticks)\n",
    "    plt.yticks(ticks)\n",
    "    plt.title(\"Pole-zero plot \")\n",
    "    plt.show()\n",
    "    rp=max(z)+1\n",
    "\n",
    "    print(z)\n",
    "    print(p)\n",
    "    return z, p"
   ]
  },
  {
   "cell_type": "code",
   "execution_count": 5,
   "metadata": {},
   "outputs": [],
   "source": [
    "a=np.array([4,-8.68,-17.98,26.74,-8.04])        # Get the poles from denominator\n",
    "b=np.array([1,-2,10,6,65])                      # Get the zeros from numerator"
   ]
  },
  {
   "cell_type": "code",
   "execution_count": 6,
   "metadata": {},
   "outputs": [
    {
     "name": "stdout",
     "output_type": "stream",
     "text": [
      "[ 3.   -2.    0.67  0.5 ]\n"
     ]
    },
    {
     "data": {
      "image/png": "[encoded data removed]",
      "text/plain": [
       "<Figure size 432x288 with 1 Axes>"
      ]
     },
     "metadata": {
      "needs_background": "light"
     },
     "output_type": "display_data"
    },
    {
     "name": "stdout",
     "output_type": "stream",
     "text": [
      "[ 3.   -2.    0.67  0.5 ]\n",
      "[ 2.+3.j  2.-3.j -1.+2.j -1.-2.j]\n"
     ]
    }
   ],
   "source": [
    "z,p =zplane(a,b)"
   ]
  },
  {
   "cell_type": "code",
   "execution_count": null,
   "metadata": {},
   "outputs": [],
   "source": []
  }
 ],
 "metadata": {
  "kernelspec": {
   "display_name": "Python 3",
   "language": "python",
   "name": "python3"
  },
  "language_info": {
   "codemirror_mode": {
    "name": "ipython",
    "version": 3
   },
   "file_extension": ".py",
   "mimetype": "text/x-python",
   "name": "python",
   "nbconvert_exporter": "python",
   "pygments_lexer": "ipython3",
   "version": "3.8.5"
  }
 },
 "nbformat": 4,
 "nbformat_minor": 4
}

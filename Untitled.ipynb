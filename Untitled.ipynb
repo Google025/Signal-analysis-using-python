{
 "cells": [
  {
   "cell_type": "code",
   "execution_count": null,
   "metadata": {},
   "outputs": [],
   "source": []
  },
  {
   "cell_type": "code",
   "execution_count": null,
   "metadata": {},
   "outputs": [],
   "source": [
    "import numpy as np                             # import numpy library as np\n",
    "import matplotlib.pyplot as plt                # import mathpltlib.pyplot library as plt\n",
    "\n",
    "n = np.linspace(0,100,101)                     # creating a space of from 0 to 100 i.e. 101 with 101 samples i.e. 1 unit b/w each point\n",
    "y = np.zeros(101)                              # output array\n",
    "\n",
    "#generate unit step signal \n",
    "u = np.ones(101)                               # unit step signal\n",
    "\n",
    "x = np.zeros(101)                              # define the array of x initially    \n",
    "y[-1]=1                                        # initial condition\n",
    "a=0.9                                          # alpha assumed as 0.9\n",
    "for i in range(len(n)):                        # till the range of we hv to get the x                                  \n",
    "    x[i] = a**i*u[i]                           # define the x at every i value till n\n",
    "    print(x[i])                                # print to cross verify \n",
    "plt.plot(n,x)                                  # plot the x vs n graph\n",
    "plt.xlabel(\"n\")\n",
    "plt.ylabel(\"S[n]\")\n",
    "plt.title(\"Signal S[n]\") \n",
    "plt.figure()\n",
    "\n",
    "for i in range(len(n)):                          # getting y till the range of n\n",
    "    y[i] = 0.5*( y[i-1] + x[i]/y[i-1] )          # defining the y as per the equation given in question\n",
    "plt.plot(n,y)                                    # plot y to verify\n",
    "plt.xlabel(\"n\")\n",
    "plt.ylabel(\"Y[n]\")\n",
    "plt.title(\"Signal Y[n]\") "
   ]
  }
 ],
 "metadata": {
  "kernelspec": {
   "display_name": "Python 3",
   "language": "python",
   "name": "python3"
  },
  "language_info": {
   "codemirror_mode": {
    "name": "ipython",
    "version": 3
   },
   "file_extension": ".py",
   "mimetype": "text/x-python",
   "name": "python",
   "nbconvert_exporter": "python",
   "pygments_lexer": "ipython3",
   "version": "3.8.5"
  }
 },
 "nbformat": 4,
 "nbformat_minor": 4
}

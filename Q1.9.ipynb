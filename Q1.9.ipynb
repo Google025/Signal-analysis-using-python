{
 "cells": [
  {
   "cell_type": "code",
   "execution_count": 1,
   "metadata": {},
   "outputs": [
    {
     "name": "stdout",
     "output_type": "stream",
     "text": [
      "[ 0.00000000e+00+0.00000000e+00j -1.44716744e-05+4.79975045e-08j\n",
      " -5.78880626e-05+3.83994076e-07j ... -1.23378392e+00-7.84306266e-03j\n",
      " -1.23380070e+00-3.92154486e-03j -1.23380629e+00-1.52868733e-16j]\n",
      "gain [        -inf        +nanj -96.78957655+27.25871911j\n",
      " -84.74802861+27.22991103j ...   1.82495763-27.23231234j\n",
      "   1.82494412-27.25991971j   1.82493962-27.28752708j]\n"
     ]
    },
    {
     "name": "stderr",
     "output_type": "stream",
     "text": [
      "<ipython-input-1-5495d5c4115a>:13: RuntimeWarning: divide by zero encountered in log10\n",
      "  gain = 20*np.log10(Hz)                   #gain = 20 log Hz\n",
      "<ipython-input-1-5495d5c4115a>:13: RuntimeWarning: invalid value encountered in multiply\n",
      "  gain = 20*np.log10(Hz)                   #gain = 20 log Hz\n",
      "C:\\Users\\Anadh\\anaconda3\\lib\\site-packages\\numpy\\core\\_asarray.py:83: ComplexWarning: Casting complex values to real discards the imaginary part\n",
      "  return array(a, dtype, copy=False, order=order)\n"
     ]
    },
    {
     "data": {
      "text/plain": [
       "Text(0.5, 1.0, 'GAIN')"
      ]
     },
     "execution_count": 1,
     "metadata": {},
     "output_type": "execute_result"
    },
    {
     "data": {
      "image/png": "[encoded data removed]",
      "text/plain": [
       "<Figure size 432x288 with 1 Axes>"
      ]
     },
     "metadata": {
      "needs_background": "light"
     },
     "output_type": "display_data"
    }
   ],
   "source": [
    "import numpy as np                                  #import numpy lib as np\n",
    "import matplotlib.pyplot as plt                     #import plot lib as plt\n",
    "import cmath\n",
    "import matplotlib.patches as patches                #import plot lib as plt\n",
    "\n",
    "r=1                                       # radius=1\n",
    "j = cmath.sqrt(-1)                        # define iota s j\n",
    "w = np.linspace(0, np.pi, 1001)           # array of w in -pi to +pi\n",
    "z=r*np.exp(j*w)                           # z= exp(-jw)\n",
    "num= ((z**-1) * (1-(z**-1))**2)           # numrator of question \n",
    "den= ( (1-0.4*(z**-1))* (1-0.88*(z**-1))+ (0.61*(z**-2)) )   #denominator of question\n",
    "Hz= num/den                              #H(z)\n",
    "gain = 20*np.log10(Hz)                   #gain = 20 log Hz\n",
    "\n",
    "print(Hz)\n",
    "print(\"gain\",gain)\n",
    "plt.plot(w,gain)\n",
    "plt.xlabel(\"w\")\n",
    "plt.ylabel(\"20log(Hz)\")\n",
    "plt.title(\"GAIN\") "
   ]
  },
  {
   "cell_type": "code",
   "execution_count": null,
   "metadata": {},
   "outputs": [],
   "source": []
  }
 ],
 "metadata": {
  "kernelspec": {
   "display_name": "Python 3",
   "language": "python",
   "name": "python3"
  },
  "language_info": {
   "codemirror_mode": {
    "name": "ipython",
    "version": 3
   },
   "file_extension": ".py",
   "mimetype": "text/x-python",
   "name": "python",
   "nbconvert_exporter": "python",
   "pygments_lexer": "ipython3",
   "version": "3.8.5"
  }
 },
 "nbformat": 4,
 "nbformat_minor": 4
}
